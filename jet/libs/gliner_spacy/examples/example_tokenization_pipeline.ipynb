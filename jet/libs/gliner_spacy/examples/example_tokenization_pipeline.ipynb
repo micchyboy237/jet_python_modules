{
 "cells": [
  {
   "cell_type": "code",
   "execution_count": null,
   "metadata": {},
   "outputs": [],
   "source": [
    "import spacy\n",
    "from spacy.tokenizer import Tokenizer\n",
    "from gliner_spacy.pipeline import GlinerSpacy\n",
    "import re\n",
    "import os"
   ]
  },
  {
   "cell_type": "code",
   "execution_count": 2,
   "metadata": {},
   "outputs": [],
   "source": [
    "sentences = [\"Hello my world\", \"good morning my friend\", \"The color dark blue is a shade of standard blue\"]"
   ]
  },
  {
   "cell_type": "code",
   "execution_count": 3,
   "metadata": {},
   "outputs": [],
   "source": [
    "def preprocess_text(list_texts):\n",
    "    \"\"\"\n",
    "    input: list of texts\n",
    "    output: list of list containing text split into tokens, with entities considered as tokens\n",
    "    \"\"\"\n",
    "    custom_spacy_config = {\n",
    "    \"gliner_model\": \"urchade/gliner_small-v2.1\",\n",
    "    \"labels\": [\"Greetings\",\"Colors\",\"Adjectives\"],\n",
    "    \"style\": \"ent\",\n",
    "    \"threshold\": 0.3\n",
    "    }\n",
    "    \n",
    "    nlp = spacy.blank(\"en\")\n",
    "    nlp.tokenizer = Tokenizer(nlp.vocab,token_match=re.compile(r'\\S+').match)\n",
    "    nlp.add_pipe(\"gliner_spacy\", config=custom_spacy_config)\n",
    "    nlp.add_pipe(\"merge_entities\")\n",
    "    docs = list(nlp.pipe(list_texts))\n",
    "    \n",
    "    return docs"
   ]
  },
  {
   "cell_type": "code",
   "execution_count": null,
   "metadata": {},
   "outputs": [],
   "source": [
    "docs = preprocess_text(sentences)"
   ]
  },
  {
   "cell_type": "code",
   "execution_count": 5,
   "metadata": {},
   "outputs": [],
   "source": [
    "sentences_processed = []\n",
    "for doc in docs:\n",
    "    tokens = [token.orth_ for token in doc]\n",
    "    sentences_processed.append(tokens)"
   ]
  },
  {
   "cell_type": "code",
   "execution_count": 6,
   "metadata": {},
   "outputs": [
    {
     "data": {
      "text/plain": [
       "[['Hello', 'my', 'world'],\n",
       " ['good morning', 'my', 'friend'],\n",
       " ['The', 'color', 'dark blue', 'is', 'a', 'shade', 'of', 'standard blue']]"
      ]
     },
     "execution_count": 6,
     "metadata": {},
     "output_type": "execute_result"
    }
   ],
   "source": [
    "sentences_processed"
   ]
  },
  {
   "cell_type": "code",
   "execution_count": null,
   "metadata": {},
   "outputs": [],
   "source": []
  }
 ],
 "metadata": {
  "kernelspec": {
   "display_name": "Python 3",
   "language": "python",
   "name": "python3"
  },
  "language_info": {
   "codemirror_mode": {
    "name": "ipython",
    "version": 3
   },
   "file_extension": ".py",
   "mimetype": "text/x-python",
   "name": "python",
   "nbconvert_exporter": "python",
   "pygments_lexer": "ipython3",
   "version": "3.10.9"
  },
  "orig_nbformat": 4
 },
 "nbformat": 4,
 "nbformat_minor": 2
}
